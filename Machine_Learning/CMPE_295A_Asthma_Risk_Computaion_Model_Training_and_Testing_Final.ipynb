{
 "cells": [
  {
   "cell_type": "markdown",
   "metadata": {
    "id": "7DoRPUeAOOmh"
   },
   "source": [
    "**Importing Libraries**"
   ]
  },
  {
   "cell_type": "code",
   "execution_count": 1,
   "metadata": {
    "id": "GCvX8xvD8tMP"
   },
   "outputs": [],
   "source": [
    "import pandas as pd\n",
    "import matplotlib.pyplot as plt\n",
    "import seaborn as sns\n",
    "import numpy as np\n",
    "\n",
    "%matplotlib inline"
   ]
  },
  {
   "cell_type": "code",
   "execution_count": 3,
   "metadata": {
    "id": "vqmca9Zf91cR"
   },
   "outputs": [],
   "source": [
    "import pandas as pd\n",
    "import matplotlib.pyplot as plt\n",
    "import seaborn as sns\n",
    "import numpy as np\n",
    "\n",
    "%matplotlib inline\n",
    "\n",
    "\n",
    "from sklearn.model_selection import train_test_split\n",
    "from sklearn.linear_model import LogisticRegression\n",
    "from sklearn.metrics import confusion_matrix, accuracy_score, f1_score\n",
    "import itertools\n",
    "\n",
    "from sklearn.neighbors import KNeighborsClassifier"
   ]
  },
  {
   "cell_type": "markdown",
   "metadata": {
    "id": "SchuyuFSQ2YV"
   },
   "source": [
    "**We have collected air quality dataset from UCI machine learning repository**(https://archive.ics.uci.edu/ml/datasets/Air+Quality). \n",
    "\n",
    "**Pre-processed air quality dataset stored in csv file is loaded using pandas pd.read_csv() function.**"
   ]
  },
  {
   "cell_type": "code",
   "execution_count": 4,
   "metadata": {
    "id": "VDfh9LHw2dcr"
   },
   "outputs": [],
   "source": [
    "data = pd.read_csv('/CMPE295_Final_Preprocessed_Data.csv')"
   ]
  },
  {
   "cell_type": "code",
   "execution_count": 5,
   "metadata": {
    "id": "PkCVhkdk3slr"
   },
   "outputs": [],
   "source": [
    "label=data['labels']"
   ]
  },
  {
   "cell_type": "code",
   "execution_count": 6,
   "metadata": {
    "colab": {
     "base_uri": "https://localhost:8080/",
     "height": 419
    },
    "id": "WH55Hn4S4-fM",
    "outputId": "d6b6c23c-1bfc-41d2-f742-075465e928c3"
   },
   "outputs": [
    {
     "data": {
      "text/html": [
       "<div>\n",
       "<style scoped>\n",
       "    .dataframe tbody tr th:only-of-type {\n",
       "        vertical-align: middle;\n",
       "    }\n",
       "\n",
       "    .dataframe tbody tr th {\n",
       "        vertical-align: top;\n",
       "    }\n",
       "\n",
       "    .dataframe thead th {\n",
       "        text-align: right;\n",
       "    }\n",
       "</style>\n",
       "<table border=\"1\" class=\"dataframe\">\n",
       "  <thead>\n",
       "    <tr style=\"text-align: right;\">\n",
       "      <th></th>\n",
       "      <th>co</th>\n",
       "      <th>no2</th>\n",
       "      <th>o3</th>\n",
       "      <th>temperature</th>\n",
       "      <th>humidity</th>\n",
       "    </tr>\n",
       "  </thead>\n",
       "  <tbody>\n",
       "    <tr>\n",
       "      <th>0</th>\n",
       "      <td>1360.00</td>\n",
       "      <td>113.0</td>\n",
       "      <td>1267.50</td>\n",
       "      <td>13.600</td>\n",
       "      <td>48.875001</td>\n",
       "    </tr>\n",
       "    <tr>\n",
       "      <th>1</th>\n",
       "      <td>1292.25</td>\n",
       "      <td>92.0</td>\n",
       "      <td>972.25</td>\n",
       "      <td>13.300</td>\n",
       "      <td>47.700000</td>\n",
       "    </tr>\n",
       "    <tr>\n",
       "      <th>2</th>\n",
       "      <td>1402.00</td>\n",
       "      <td>114.0</td>\n",
       "      <td>1074.00</td>\n",
       "      <td>11.900</td>\n",
       "      <td>53.975000</td>\n",
       "    </tr>\n",
       "    <tr>\n",
       "      <th>3</th>\n",
       "      <td>1375.50</td>\n",
       "      <td>122.0</td>\n",
       "      <td>1203.25</td>\n",
       "      <td>11.000</td>\n",
       "      <td>60.000000</td>\n",
       "    </tr>\n",
       "    <tr>\n",
       "      <th>4</th>\n",
       "      <td>1272.25</td>\n",
       "      <td>116.0</td>\n",
       "      <td>1110.00</td>\n",
       "      <td>11.150</td>\n",
       "      <td>59.575001</td>\n",
       "    </tr>\n",
       "    <tr>\n",
       "      <th>...</th>\n",
       "      <td>...</td>\n",
       "      <td>...</td>\n",
       "      <td>...</td>\n",
       "      <td>...</td>\n",
       "      <td>...</td>\n",
       "    </tr>\n",
       "    <tr>\n",
       "      <th>9352</th>\n",
       "      <td>1314.25</td>\n",
       "      <td>189.8</td>\n",
       "      <td>1728.50</td>\n",
       "      <td>21.850</td>\n",
       "      <td>29.250000</td>\n",
       "    </tr>\n",
       "    <tr>\n",
       "      <th>9353</th>\n",
       "      <td>1162.50</td>\n",
       "      <td>179.2</td>\n",
       "      <td>1269.00</td>\n",
       "      <td>24.325</td>\n",
       "      <td>23.725000</td>\n",
       "    </tr>\n",
       "    <tr>\n",
       "      <th>9354</th>\n",
       "      <td>1142.00</td>\n",
       "      <td>174.7</td>\n",
       "      <td>1092.00</td>\n",
       "      <td>26.900</td>\n",
       "      <td>18.350000</td>\n",
       "    </tr>\n",
       "    <tr>\n",
       "      <th>9355</th>\n",
       "      <td>1002.50</td>\n",
       "      <td>155.7</td>\n",
       "      <td>769.75</td>\n",
       "      <td>28.325</td>\n",
       "      <td>13.550000</td>\n",
       "    </tr>\n",
       "    <tr>\n",
       "      <th>9356</th>\n",
       "      <td>1070.75</td>\n",
       "      <td>167.7</td>\n",
       "      <td>816.00</td>\n",
       "      <td>28.500</td>\n",
       "      <td>13.125000</td>\n",
       "    </tr>\n",
       "  </tbody>\n",
       "</table>\n",
       "<p>9357 rows × 5 columns</p>\n",
       "</div>"
      ],
      "text/plain": [
       "           co    no2       o3  temperature   humidity\n",
       "0     1360.00  113.0  1267.50       13.600  48.875001\n",
       "1     1292.25   92.0   972.25       13.300  47.700000\n",
       "2     1402.00  114.0  1074.00       11.900  53.975000\n",
       "3     1375.50  122.0  1203.25       11.000  60.000000\n",
       "4     1272.25  116.0  1110.00       11.150  59.575001\n",
       "...       ...    ...      ...          ...        ...\n",
       "9352  1314.25  189.8  1728.50       21.850  29.250000\n",
       "9353  1162.50  179.2  1269.00       24.325  23.725000\n",
       "9354  1142.00  174.7  1092.00       26.900  18.350000\n",
       "9355  1002.50  155.7   769.75       28.325  13.550000\n",
       "9356  1070.75  167.7   816.00       28.500  13.125000\n",
       "\n",
       "[9357 rows x 5 columns]"
      ]
     },
     "execution_count": 6,
     "metadata": {
      "tags": []
     },
     "output_type": "execute_result"
    }
   ],
   "source": [
    "data.iloc[:, :-1]"
   ]
  },
  {
   "cell_type": "code",
   "execution_count": 7,
   "metadata": {
    "id": "shYUrowu47Q0"
   },
   "outputs": [],
   "source": [
    "#X_data=data[['CO(GT)','PT08.S1(CO)','C6H6(GT)','PT08.S2(NMHC)','NOx(GT)','NO2(GT)','PT08.S4(NO2)','PT08.S5(O3)','T','RH']]"
   ]
  },
  {
   "cell_type": "code",
   "execution_count": 8,
   "metadata": {
    "colab": {
     "base_uri": "https://localhost:8080/"
    },
    "id": "6qKgwokEvfks",
    "outputId": "4cf8f199-aec5-44c4-a68c-b61edec97c03"
   },
   "outputs": [
    {
     "data": {
      "text/plain": [
       "<bound method NDFrame.describe of            co    no2       o3  temperature   humidity  labels\n",
       "0     1360.00  113.0  1267.50       13.600  48.875001       1\n",
       "1     1292.25   92.0   972.25       13.300  47.700000       0\n",
       "2     1402.00  114.0  1074.00       11.900  53.975000       1\n",
       "3     1375.50  122.0  1203.25       11.000  60.000000       1\n",
       "4     1272.25  116.0  1110.00       11.150  59.575001       1\n",
       "...       ...    ...      ...          ...        ...     ...\n",
       "9352  1314.25  189.8  1728.50       21.850  29.250000       1\n",
       "9353  1162.50  179.2  1269.00       24.325  23.725000       1\n",
       "9354  1142.00  174.7  1092.00       26.900  18.350000       0\n",
       "9355  1002.50  155.7   769.75       28.325  13.550000       0\n",
       "9356  1070.75  167.7   816.00       28.500  13.125000       0\n",
       "\n",
       "[9357 rows x 6 columns]>"
      ]
     },
     "execution_count": 8,
     "metadata": {
      "tags": []
     },
     "output_type": "execute_result"
    }
   ],
   "source": [
    "data.describe"
   ]
  },
  {
   "cell_type": "markdown",
   "metadata": {
    "id": "PsZOcP66V1Nb"
   },
   "source": [
    "**Dropping the labels column**"
   ]
  },
  {
   "cell_type": "code",
   "execution_count": 9,
   "metadata": {
    "colab": {
     "base_uri": "https://localhost:8080/",
     "height": 419
    },
    "id": "-PPhVrSu8tMj",
    "outputId": "c6326cff-f5bf-42b9-fd63-9209760d61cc"
   },
   "outputs": [
    {
     "data": {
      "text/html": [
       "<div>\n",
       "<style scoped>\n",
       "    .dataframe tbody tr th:only-of-type {\n",
       "        vertical-align: middle;\n",
       "    }\n",
       "\n",
       "    .dataframe tbody tr th {\n",
       "        vertical-align: top;\n",
       "    }\n",
       "\n",
       "    .dataframe thead th {\n",
       "        text-align: right;\n",
       "    }\n",
       "</style>\n",
       "<table border=\"1\" class=\"dataframe\">\n",
       "  <thead>\n",
       "    <tr style=\"text-align: right;\">\n",
       "      <th></th>\n",
       "      <th>co</th>\n",
       "      <th>no2</th>\n",
       "      <th>o3</th>\n",
       "      <th>temperature</th>\n",
       "      <th>humidity</th>\n",
       "    </tr>\n",
       "  </thead>\n",
       "  <tbody>\n",
       "    <tr>\n",
       "      <th>0</th>\n",
       "      <td>1360.00</td>\n",
       "      <td>113.0</td>\n",
       "      <td>1267.50</td>\n",
       "      <td>13.600</td>\n",
       "      <td>48.875001</td>\n",
       "    </tr>\n",
       "    <tr>\n",
       "      <th>1</th>\n",
       "      <td>1292.25</td>\n",
       "      <td>92.0</td>\n",
       "      <td>972.25</td>\n",
       "      <td>13.300</td>\n",
       "      <td>47.700000</td>\n",
       "    </tr>\n",
       "    <tr>\n",
       "      <th>2</th>\n",
       "      <td>1402.00</td>\n",
       "      <td>114.0</td>\n",
       "      <td>1074.00</td>\n",
       "      <td>11.900</td>\n",
       "      <td>53.975000</td>\n",
       "    </tr>\n",
       "    <tr>\n",
       "      <th>3</th>\n",
       "      <td>1375.50</td>\n",
       "      <td>122.0</td>\n",
       "      <td>1203.25</td>\n",
       "      <td>11.000</td>\n",
       "      <td>60.000000</td>\n",
       "    </tr>\n",
       "    <tr>\n",
       "      <th>4</th>\n",
       "      <td>1272.25</td>\n",
       "      <td>116.0</td>\n",
       "      <td>1110.00</td>\n",
       "      <td>11.150</td>\n",
       "      <td>59.575001</td>\n",
       "    </tr>\n",
       "    <tr>\n",
       "      <th>...</th>\n",
       "      <td>...</td>\n",
       "      <td>...</td>\n",
       "      <td>...</td>\n",
       "      <td>...</td>\n",
       "      <td>...</td>\n",
       "    </tr>\n",
       "    <tr>\n",
       "      <th>9352</th>\n",
       "      <td>1314.25</td>\n",
       "      <td>189.8</td>\n",
       "      <td>1728.50</td>\n",
       "      <td>21.850</td>\n",
       "      <td>29.250000</td>\n",
       "    </tr>\n",
       "    <tr>\n",
       "      <th>9353</th>\n",
       "      <td>1162.50</td>\n",
       "      <td>179.2</td>\n",
       "      <td>1269.00</td>\n",
       "      <td>24.325</td>\n",
       "      <td>23.725000</td>\n",
       "    </tr>\n",
       "    <tr>\n",
       "      <th>9354</th>\n",
       "      <td>1142.00</td>\n",
       "      <td>174.7</td>\n",
       "      <td>1092.00</td>\n",
       "      <td>26.900</td>\n",
       "      <td>18.350000</td>\n",
       "    </tr>\n",
       "    <tr>\n",
       "      <th>9355</th>\n",
       "      <td>1002.50</td>\n",
       "      <td>155.7</td>\n",
       "      <td>769.75</td>\n",
       "      <td>28.325</td>\n",
       "      <td>13.550000</td>\n",
       "    </tr>\n",
       "    <tr>\n",
       "      <th>9356</th>\n",
       "      <td>1070.75</td>\n",
       "      <td>167.7</td>\n",
       "      <td>816.00</td>\n",
       "      <td>28.500</td>\n",
       "      <td>13.125000</td>\n",
       "    </tr>\n",
       "  </tbody>\n",
       "</table>\n",
       "<p>9357 rows × 5 columns</p>\n",
       "</div>"
      ],
      "text/plain": [
       "           co    no2       o3  temperature   humidity\n",
       "0     1360.00  113.0  1267.50       13.600  48.875001\n",
       "1     1292.25   92.0   972.25       13.300  47.700000\n",
       "2     1402.00  114.0  1074.00       11.900  53.975000\n",
       "3     1375.50  122.0  1203.25       11.000  60.000000\n",
       "4     1272.25  116.0  1110.00       11.150  59.575001\n",
       "...       ...    ...      ...          ...        ...\n",
       "9352  1314.25  189.8  1728.50       21.850  29.250000\n",
       "9353  1162.50  179.2  1269.00       24.325  23.725000\n",
       "9354  1142.00  174.7  1092.00       26.900  18.350000\n",
       "9355  1002.50  155.7   769.75       28.325  13.550000\n",
       "9356  1070.75  167.7   816.00       28.500  13.125000\n",
       "\n",
       "[9357 rows x 5 columns]"
      ]
     },
     "execution_count": 9,
     "metadata": {
      "tags": []
     },
     "output_type": "execute_result"
    }
   ],
   "source": [
    "X_data = data.drop(columns=['labels'])\n",
    "X_data"
   ]
  },
  {
   "cell_type": "code",
   "execution_count": 10,
   "metadata": {
    "id": "iJJdcMhbChUh"
   },
   "outputs": [],
   "source": [
    "X=X_data.to_numpy()\n",
    "Y=label.to_numpy()"
   ]
  },
  {
   "cell_type": "markdown",
   "metadata": {
    "id": "-_wb60Z5V9vc"
   },
   "source": [
    "**Dataset Split**\n",
    "\n",
    "We have made use of K-fold cross validation. It is a resampling procedure used to evaluate machine learning models by spliting the data into k-1 train sets and 1 test set.\n",
    "\n",
    "We have trained three models SVM, KNN and Logestic Regression"
   ]
  },
  {
   "cell_type": "markdown",
   "metadata": {
    "id": "jmhBY0415d_h"
   },
   "source": [
    "# **SVM**"
   ]
  },
  {
   "cell_type": "code",
   "execution_count": 11,
   "metadata": {
    "id": "wnGf6v6_7LT8"
   },
   "outputs": [],
   "source": [
    "svc_plot=[]\n",
    "svc_x =[]\n",
    "svc_y=[]\n"
   ]
  },
  {
   "cell_type": "code",
   "execution_count": 12,
   "metadata": {
    "colab": {
     "base_uri": "https://localhost:8080/"
    },
    "id": "lq68u_Ytf-_s",
    "outputId": "238bccd8-22b7-4320-98a4-d2e6d89b18d9"
   },
   "outputs": [
    {
     "name": "stdout",
     "output_type": "stream",
     "text": [
      "Accuracy of classification : 99.61530241504595 %\n",
      "Accuracy of classification : 99.59384352287303 %\n",
      "99.60457296895949\n"
     ]
    }
   ],
   "source": [
    "from sklearn.svm import SVC\n",
    "from sklearn.model_selection import KFold\n",
    "from sklearn.model_selection import GridSearchCV \n",
    "splits =2\n",
    "kf = KFold(n_splits=splits)\n",
    "kf.get_n_splits(X)\n",
    " \n",
    "\n",
    "#print(kf)\n",
    "average_accuracy =0\n",
    "for train_index, test_index in kf.split(X):\n",
    "    #print(\"TRAIN:\", train_index, \"TEST:\", test_index)\n",
    "    x_train, x_test = X[train_index], X[test_index]\n",
    "    y_train, y_test = Y[train_index], Y[test_index]\n",
    "\n",
    "    model = SVC(C=100, break_ties=False, cache_size=200, class_weight=None, coef0=0.0,\n",
    "    decision_function_shape='ovr', degree=3, gamma=0.0001, kernel='rbf',\n",
    "    max_iter=-1, probability=False, random_state=None, shrinking=True,\n",
    "    tol=0.001, verbose=False)\n",
    "    model.fit(x_train, y_train)\n",
    "\n",
    "    y_pred = model.predict(x_test)\n",
    "    cm_lr = confusion_matrix(y_test, y_pred)\n",
    "    acc_lr = accuracy_score(y_test, y_pred)\n",
    "    score = f1_score(y_test, y_pred, average='macro')\n",
    "    print(\"Accuracy of classification : {0} %\".format(acc_lr*100))\n",
    "    #print(\"f1_score of classification : {0} %\".format(score*100))\n",
    "    #print(cm_lr)\n",
    "    average_accuracy=average_accuracy+(acc_lr*100)\n",
    "average_accuracy=average_accuracy/splits\n",
    "print(average_accuracy)\n",
    "svc_x.append('2')\n",
    "svc_y.append(average_accuracy)\n"
   ]
  },
  {
   "cell_type": "code",
   "execution_count": 13,
   "metadata": {
    "colab": {
     "base_uri": "https://localhost:8080/"
    },
    "id": "DzGMEvUXgfoI",
    "outputId": "e614b9ec-5f0c-491c-df0d-bec7c4fe99a6"
   },
   "outputs": [
    {
     "name": "stdout",
     "output_type": "stream",
     "text": [
      "Accuracy of classification : 99.83969220904136 %\n",
      "Accuracy of classification : 99.87175376723309 %\n",
      "Accuracy of classification : 99.35876883616544 %\n",
      "99.69007160414662\n"
     ]
    }
   ],
   "source": [
    "from sklearn.svm import SVC\n",
    "from sklearn.model_selection import KFold\n",
    "from sklearn.model_selection import GridSearchCV \n",
    "splits =3\n",
    "kf = KFold(n_splits=splits)\n",
    "kf.get_n_splits(X)\n",
    " \n",
    "\n",
    "#print(kf)\n",
    "average_accuracy =0\n",
    "for train_index, test_index in kf.split(X):\n",
    "    #print(\"TRAIN:\", train_index, \"TEST:\", test_index)\n",
    "    x_train, x_test = X[train_index], X[test_index]\n",
    "    y_train, y_test = Y[train_index], Y[test_index]\n",
    "\n",
    "    model = SVC(C=100, break_ties=False, cache_size=200, class_weight=None, coef0=0.0,\n",
    "    decision_function_shape='ovr', degree=3, gamma=0.0001, kernel='rbf',\n",
    "    max_iter=-1, probability=False, random_state=None, shrinking=True,\n",
    "    tol=0.001, verbose=False)\n",
    "    model.fit(x_train, y_train)\n",
    "\n",
    "    y_pred = model.predict(x_test)\n",
    "    cm_lr = confusion_matrix(y_test, y_pred)\n",
    "    acc_lr = accuracy_score(y_test, y_pred)\n",
    "    score = f1_score(y_test, y_pred, average='macro')\n",
    "    print(\"Accuracy of classification : {0} %\".format(acc_lr*100))\n",
    "    #print(\"f1_score of classification : {0} %\".format(score*100))\n",
    "    #print(cm_lr)\n",
    "    average_accuracy=average_accuracy+(acc_lr*100)\n",
    "average_accuracy=average_accuracy/splits\n",
    "print(average_accuracy)\n",
    "svc_x.append('3')\n",
    "svc_y.append(average_accuracy)\n"
   ]
  },
  {
   "cell_type": "code",
   "execution_count": 14,
   "metadata": {
    "id": "xU8Uxed-_TD7"
   },
   "outputs": [],
   "source": [
    "svc_plot.append(svc_x)\n",
    "svc_plot.append(svc_y)"
   ]
  },
  {
   "cell_type": "code",
   "execution_count": 15,
   "metadata": {
    "colab": {
     "base_uri": "https://localhost:8080/",
     "height": 296
    },
    "id": "A-Hq_-DBHYq-",
    "outputId": "4e9ed353-9d03-4f73-fc66-164218a5efc7"
   },
   "outputs": [
    {
     "data": {
      "text/plain": [
       "[<matplotlib.lines.Line2D at 0x7f1cbe7baa58>]"
      ]
     },
     "execution_count": 15,
     "metadata": {
      "tags": []
     },
     "output_type": "execute_result"
    },
    {
     "data": {
      "image/png": "[encoded data removed]",
      "text/plain": [
       "<Figure size 432x288 with 1 Axes>"
      ]
     },
     "metadata": {
      "needs_background": "light",
      "tags": []
     },
     "output_type": "display_data"
    }
   ],
   "source": [
    "plt.xlabel('k')\n",
    "plt.ylabel('accuracy of svm model')\n",
    "plt.plot(svc_x, svc_y)"
   ]
  },
  {
   "cell_type": "markdown",
   "metadata": {
    "id": "Rx3jRMhgJfqC"
   },
   "source": [
    "# **KNN**"
   ]
  },
  {
   "cell_type": "code",
   "execution_count": 16,
   "metadata": {
    "id": "ng3xLUy7Dm7P"
   },
   "outputs": [],
   "source": [
    "knn_plot = []\n",
    "knn_x = []\n",
    "knn_y = []"
   ]
  },
  {
   "cell_type": "code",
   "execution_count": 17,
   "metadata": {
    "colab": {
     "base_uri": "https://localhost:8080/"
    },
    "id": "ZE_Qb7_65oh4",
    "outputId": "0f6c69aa-8c7f-4946-d239-5fa2c0448881"
   },
   "outputs": [
    {
     "name": "stdout",
     "output_type": "stream",
     "text": [
      "GridSearchCV(cv=10, error_score=nan,\n",
      "             estimator=KNeighborsClassifier(algorithm='auto', leaf_size=30,\n",
      "                                            metric='minkowski',\n",
      "                                            metric_params=None, n_jobs=None,\n",
      "                                            n_neighbors=5, p=2,\n",
      "                                            weights='uniform'),\n",
      "             iid='deprecated', n_jobs=None,\n",
      "             param_grid={'leaf_size': [1, 2, 3, 4, 5, 6, 7, 8, 9],\n",
      "                         'n_neighbors': [1, 2, 3, 4, 5, 6, 7, 8, 9],\n",
      "                         'p': [1, 2]},\n",
      "             pre_dispatch='2*n_jobs', refit=True, return_train_score=False,\n",
      "             scoring=None, verbose=0)\n",
      "Best leaf_size: 1\n",
      "Best p: 2\n",
      "Best n_neighbors: 7\n",
      "GridSearchCV(cv=10, error_score=nan,\n",
      "             estimator=KNeighborsClassifier(algorithm='auto', leaf_size=30,\n",
      "                                            metric='minkowski',\n",
      "                                            metric_params=None, n_jobs=None,\n",
      "                                            n_neighbors=5, p=2,\n",
      "                                            weights='uniform'),\n",
      "             iid='deprecated', n_jobs=None,\n",
      "             param_grid={'leaf_size': [1, 2, 3, 4, 5, 6, 7, 8, 9],\n",
      "                         'n_neighbors': [1, 2, 3, 4, 5, 6, 7, 8, 9],\n",
      "                         'p': [1, 2]},\n",
      "             pre_dispatch='2*n_jobs', refit=True, return_train_score=False,\n",
      "             scoring=None, verbose=0)\n",
      "Best leaf_size: 1\n",
      "Best p: 2\n",
      "Best n_neighbors: 9\n"
     ]
    }
   ],
   "source": [
    "from sklearn.neighbors import KNeighborsClassifier\n",
    "\n",
    "kf = KFold(n_splits=2)\n",
    "kf.get_n_splits(X)\n",
    "\n",
    "leaf_size = list(range(1,10))\n",
    "n_neighbors = list(range(1,10))\n",
    "p=[1,2]\n",
    "#Convert to dictionary\n",
    "hyperparameters = dict(leaf_size=leaf_size, n_neighbors=n_neighbors, p=p)\n",
    "#Create new KNN object\n",
    "\n",
    "\n",
    "for train_index, test_index in kf.split(X):\n",
    "    #print(\"TRAIN:\", train_index, \"TEST:\", test_index)\n",
    "    x_train, x_test = X[train_index], X[test_index]\n",
    "    y_train, y_test = Y[train_index], Y[test_index]\n",
    "\n",
    "    knn_2 = KNeighborsClassifier()\n",
    "    #Use GridSearch\n",
    "    clf = GridSearchCV(knn_2, hyperparameters, cv=10)\n",
    "    print(clf)\n",
    "    best_model = clf.fit(x_train,y_train)\n",
    "    #Print The value of best Hyperparameters\n",
    "    print('Best leaf_size:', best_model.best_estimator_.get_params()['leaf_size'])\n",
    "    print('Best p:', best_model.best_estimator_.get_params()['p'])\n",
    "    print('Best n_neighbors:', best_model.best_estimator_.get_params()['n_neighbors'])"
   ]
  },
  {
   "cell_type": "code",
   "execution_count": 18,
   "metadata": {
    "colab": {
     "base_uri": "https://localhost:8080/"
    },
    "id": "0volbdMFOMeY",
    "outputId": "ec849f3a-3d2a-4868-f823-5fe5dfe664c5"
   },
   "outputs": [
    {
     "name": "stdout",
     "output_type": "stream",
     "text": [
      "Accuracy of classification : 99.63667450309896 %\n",
      "f1_score of classification : 99.51877240166408 %\n",
      "[[3489   13]\n",
      " [   4 1173]]\n",
      "Accuracy of classification : 99.48696023941855 %\n",
      "f1_score of classification : 99.46420768766903 %\n",
      "[[2809    9]\n",
      " [  15 1845]]\n",
      "99.56181737125875\n"
     ]
    }
   ],
   "source": [
    "from sklearn.neighbors import KNeighborsClassifier\n",
    "splits = 2\n",
    "kf = KFold(n_splits=splits)\n",
    "kf.get_n_splits(X)\n",
    "\n",
    "#print(kf)\n",
    "average_accuracy =0\n",
    "for train_index, test_index in kf.split(X):\n",
    "    #print(\"TRAIN:\", train_index, \"TEST:\", test_index)\n",
    "    x_train, x_test = X[train_index], X[test_index]\n",
    "    y_train, y_test = Y[train_index], Y[test_index]\n",
    "\n",
    "    model = KNeighborsClassifier(n_neighbors=9, leaf_size=1,p=2)\n",
    "    model.fit(x_train, y_train)\n",
    "\n",
    "    y_pred = model.predict(x_test)\n",
    "    cm_lr = confusion_matrix(y_test, y_pred)\n",
    "    acc_lr = accuracy_score(y_test, y_pred)\n",
    "    score = f1_score(y_test, y_pred, average='macro')\n",
    "    print(\"Accuracy of classification : {0} %\".format(acc_lr*100))\n",
    "    print(\"f1_score of classification : {0} %\".format(score*100))\n",
    "    print(cm_lr)\n",
    "    average_accuracy=average_accuracy+(acc_lr*100)\n",
    "average_accuracy=average_accuracy/splits\n",
    "print(average_accuracy)\n",
    "knn_x.append('2')\n",
    "knn_y.append(average_accuracy)"
   ]
  },
  {
   "cell_type": "code",
   "execution_count": 19,
   "metadata": {
    "colab": {
     "base_uri": "https://localhost:8080/"
    },
    "id": "lywJS7dPiKWu",
    "outputId": "69f59f37-0a6a-4336-bf27-9945b9ce6919"
   },
   "outputs": [
    {
     "name": "stdout",
     "output_type": "stream",
     "text": [
      "Accuracy of classification : 99.5511381853158 %\n",
      "f1_score of classification : 99.45265831619416 %\n",
      "[[2214    8]\n",
      " [   6  891]]\n",
      "Accuracy of classification : 99.67938441808272 %\n",
      "f1_score of classification : 99.63221386734136 %\n",
      "[[2113    2]\n",
      " [   8  996]]\n",
      "Accuracy of classification : 99.48701506893235 %\n",
      "f1_score of classification : 99.4467945477603 %\n",
      "[[1972   11]\n",
      " [   5 1131]]\n",
      "99.57251255744363\n"
     ]
    }
   ],
   "source": [
    "from sklearn.neighbors import KNeighborsClassifier\n",
    "splits = 3\n",
    "kf = KFold(n_splits=splits)\n",
    "kf.get_n_splits(X)\n",
    "\n",
    "#print(kf)\n",
    "average_accuracy = 0\n",
    "for train_index, test_index in kf.split(X):\n",
    "    #print(\"TRAIN:\", train_index, \"TEST:\", test_index)\n",
    "    x_train, x_test = X[train_index], X[test_index]\n",
    "    y_train, y_test = Y[train_index], Y[test_index]\n",
    "\n",
    "    model = KNeighborsClassifier(n_neighbors=9, leaf_size=1,p=2)\n",
    "    model.fit(x_train, y_train)\n",
    "\n",
    "    y_pred = model.predict(x_test)\n",
    "    cm_lr = confusion_matrix(y_test, y_pred)\n",
    "    acc_lr = accuracy_score(y_test, y_pred)\n",
    "    score = f1_score(y_test, y_pred, average='macro')\n",
    "    print(\"Accuracy of classification : {0} %\".format(acc_lr*100))\n",
    "    print(\"f1_score of classification : {0} %\".format(score*100))\n",
    "    print(cm_lr)\n",
    "    average_accuracy=average_accuracy+(acc_lr*100)\n",
    "average_accuracy=average_accuracy/splits\n",
    "print(average_accuracy)\n",
    "knn_x.append('3')\n",
    "knn_y.append(average_accuracy)"
   ]
  },
  {
   "cell_type": "code",
   "execution_count": 20,
   "metadata": {
    "colab": {
     "base_uri": "https://localhost:8080/"
    },
    "id": "3o5Z6P_2icJF",
    "outputId": "73c433ab-446c-4705-d2fe-504ef4919236"
   },
   "outputs": [
    {
     "name": "stdout",
     "output_type": "stream",
     "text": [
      "Accuracy of classification : 99.57264957264957 %\n",
      "f1_score of classification : 99.5168857713569 %\n",
      "[[1250    5]\n",
      " [   3  614]]\n",
      "Accuracy of classification : 99.83974358974359 %\n",
      "f1_score of classification : 99.75912451023913 %\n",
      "[[1476    0]\n",
      " [   3  393]]\n",
      "Accuracy of classification : 99.51897381079637 %\n",
      "f1_score of classification : 99.44526747832411 %\n",
      "[[1272    0]\n",
      " [   9  590]]\n",
      "Accuracy of classification : 99.4655264564404 %\n",
      "f1_score of classification : 99.45424527751526 %\n",
      "[[1065    5]\n",
      " [   5  796]]\n",
      "Accuracy of classification : 99.41207910208445 %\n",
      "f1_score of classification : 99.34008119364469 %\n",
      "[[1239    8]\n",
      " [   3  621]]\n",
      "99.56179450634288\n"
     ]
    }
   ],
   "source": [
    "from sklearn.neighbors import KNeighborsClassifier\n",
    "splits = 5\n",
    "kf = KFold(n_splits=splits)\n",
    "kf.get_n_splits(X)\n",
    "\n",
    "#print(kf)\n",
    "average_accuracy = 0\n",
    "for train_index, test_index in kf.split(X):\n",
    "    #print(\"TRAIN:\", train_index, \"TEST:\", test_index)\n",
    "    x_train, x_test = X[train_index], X[test_index]\n",
    "    y_train, y_test = Y[train_index], Y[test_index]\n",
    "\n",
    "    model = KNeighborsClassifier(n_neighbors=9, leaf_size=1,p=2)\n",
    "    model.fit(x_train, y_train)\n",
    "\n",
    "    y_pred = model.predict(x_test)\n",
    "    cm_lr = confusion_matrix(y_test, y_pred)\n",
    "    acc_lr = accuracy_score(y_test, y_pred)\n",
    "    score = f1_score(y_test, y_pred, average='macro')\n",
    "    print(\"Accuracy of classification : {0} %\".format(acc_lr*100))\n",
    "    print(\"f1_score of classification : {0} %\".format(score*100))\n",
    "    print(cm_lr)\n",
    "    average_accuracy=average_accuracy+(acc_lr*100)\n",
    "average_accuracy=average_accuracy/splits\n",
    "print(average_accuracy)\n",
    "knn_x.append('5')\n",
    "knn_y.append(average_accuracy)"
   ]
  },
  {
   "cell_type": "code",
   "execution_count": 21,
   "metadata": {
    "colab": {
     "base_uri": "https://localhost:8080/",
     "height": 296
    },
    "id": "4KVTr5kaEsFj",
    "outputId": "9d8b25c1-ba96-4d2f-8d20-56eb8eaa1a4a"
   },
   "outputs": [
    {
     "data": {
      "text/plain": [
       "[<matplotlib.lines.Line2D at 0x7f1cbe2c2b38>]"
      ]
     },
     "execution_count": 21,
     "metadata": {
      "tags": []
     },
     "output_type": "execute_result"
    },
    {
     "data": {
      "image/png": "[encoded data removed]",
      "text/plain": [
       "<Figure size 432x288 with 1 Axes>"
      ]
     },
     "metadata": {
      "needs_background": "light",
      "tags": []
     },
     "output_type": "display_data"
    }
   ],
   "source": [
    "plt.xlabel('k')\n",
    "plt.ylabel('accuracy of KNN model')\n",
    "plt.plot(knn_x, knn_y)"
   ]
  },
  {
   "cell_type": "markdown",
   "metadata": {
    "id": "zeSPKSgdJRMh"
   },
   "source": [
    "# **Logisitic Regression**"
   ]
  },
  {
   "cell_type": "code",
   "execution_count": 22,
   "metadata": {
    "id": "Tup3jaByE-OD"
   },
   "outputs": [],
   "source": [
    "lr_plot = []\n",
    "lr_x = []\n",
    "lr_y = []"
   ]
  },
  {
   "cell_type": "code",
   "execution_count": 23,
   "metadata": {
    "colab": {
     "base_uri": "https://localhost:8080/"
    },
    "id": "zw-aBNNLBBGH",
    "outputId": "22027046-fe54-418d-eb0d-c7e00bf9321f"
   },
   "outputs": [
    {
     "name": "stdout",
     "output_type": "stream",
     "text": [
      "Accuracy of classification : 97.77730284248771 %\n",
      "f1_score of classification : 97.05849070837628 %\n",
      "[[3444   58]\n",
      " [  46 1131]]\n",
      "Accuracy of classification : 93.56562633604103 %\n",
      "f1_score of classification : 93.33455557936615 %\n",
      "[[2624  194]\n",
      " [ 107 1753]]\n",
      "0.9567146458926438\n"
     ]
    }
   ],
   "source": [
    "import numpy as np\n",
    "from sklearn.model_selection import KFold\n",
    "average_accuracy=0\n",
    "splits = 2\n",
    "kf = KFold(n_splits=splits)\n",
    "kf.get_n_splits(X)\n",
    "\n",
    "for train_index, test_index in kf.split(X):\n",
    "    #print(\"TRAIN:\", train_index, \"TEST:\", test_index)\n",
    "    x_train, x_test = X[train_index], X[test_index]\n",
    "    y_train, y_test = Y[train_index], Y[test_index]\n",
    "\n",
    "    model = LogisticRegression(solver='liblinear')\n",
    "    model.fit(x_train, y_train)\n",
    "    \n",
    "    y_pred = model.predict(x_test)\n",
    "    cm_lr = confusion_matrix(y_test, y_pred)\n",
    "    acc_lr = accuracy_score(y_test, y_pred) \n",
    "    score = f1_score(y_test, y_pred, average='macro')\n",
    "    print(\"Accuracy of classification : {0} %\".format(acc_lr*100))\n",
    "    print(\"f1_score of classification : {0} %\".format(score*100))\n",
    "    average_accuracy=average_accuracy+acc_lr\n",
    "    print(cm_lr)\n",
    "average_accuracy=average_accuracy/splits\n",
    "print(average_accuracy)\n",
    "lr_x.append('2')\n",
    "lr_y.append(average_accuracy)"
   ]
  },
  {
   "cell_type": "code",
   "execution_count": 24,
   "metadata": {
    "colab": {
     "base_uri": "https://localhost:8080/"
    },
    "id": "72OmQlDyjBuT",
    "outputId": "62724e92-f101-4c6e-af39-1d0f3e2252fe"
   },
   "outputs": [
    {
     "name": "stdout",
     "output_type": "stream",
     "text": [
      "Accuracy of classification : 97.5953831356204 %\n",
      "f1_score of classification : 97.0349550189019 %\n",
      "[[2200   22]\n",
      " [  53  844]]\n",
      "Accuracy of classification : 96.5694132734851 %\n",
      "f1_score of classification : 96.0098575587071 %\n",
      "[[2090   25]\n",
      " [  82  922]]\n",
      "Accuracy of classification : 96.47322859890991 %\n",
      "f1_score of classification : 96.22420365903048 %\n",
      "[[1905   78]\n",
      " [  32 1104]]\n",
      "0.9687934166933846\n"
     ]
    }
   ],
   "source": [
    "import numpy as np\n",
    "from sklearn.model_selection import KFold\n",
    "average_accuracy=0\n",
    "splits = 3\n",
    "kf = KFold(n_splits=splits)\n",
    "kf.get_n_splits(X)\n",
    "\n",
    "for train_index, test_index in kf.split(X):\n",
    "    #print(\"TRAIN:\", train_index, \"TEST:\", test_index)\n",
    "    x_train, x_test = X[train_index], X[test_index]\n",
    "    y_train, y_test = Y[train_index], Y[test_index]\n",
    "\n",
    "    model = LogisticRegression(solver='liblinear')\n",
    "    model.fit(x_train, y_train)\n",
    "    \n",
    "    y_pred = model.predict(x_test)\n",
    "    cm_lr = confusion_matrix(y_test, y_pred)\n",
    "    acc_lr = accuracy_score(y_test, y_pred)\n",
    "    score = f1_score(y_test, y_pred, average='macro')\n",
    "    print(\"Accuracy of classification : {0} %\".format(acc_lr*100))\n",
    "    print(\"f1_score of classification : {0} %\".format(score*100))\n",
    "    average_accuracy=average_accuracy+acc_lr \n",
    "    print(cm_lr)\n",
    "average_accuracy=average_accuracy/splits\n",
    "print(average_accuracy)\n",
    "lr_x.append('3')\n",
    "lr_y.append(average_accuracy)"
   ]
  },
  {
   "cell_type": "code",
   "execution_count": 25,
   "metadata": {
    "colab": {
     "base_uri": "https://localhost:8080/"
    },
    "id": "TZTL6_R2jHpK",
    "outputId": "8939a9eb-120d-40ef-b201-73c5107bf6d7"
   },
   "outputs": [
    {
     "name": "stdout",
     "output_type": "stream",
     "text": [
      "Accuracy of classification : 98.29059829059828 %\n",
      "f1_score of classification : 98.04458186224329 %\n",
      "[[1252    3]\n",
      " [  29  588]]\n",
      "Accuracy of classification : 97.86324786324786 %\n",
      "f1_score of classification : 96.78533894754196 %\n",
      "[[1458   18]\n",
      " [  22  374]]\n",
      "Accuracy of classification : 98.23623730625334 %\n",
      "f1_score of classification : 97.94917427883298 %\n",
      "[[1269    3]\n",
      " [  30  569]]\n",
      "Accuracy of classification : 96.73971138428648 %\n",
      "f1_score of classification : 96.6661087347887 %\n",
      "[[1044   26]\n",
      " [  35  766]]\n",
      "Accuracy of classification : 97.22073757349011 %\n",
      "f1_score of classification : 96.89139103317825 %\n",
      "[[1214   33]\n",
      " [  19  605]]\n",
      "0.9767010648357521\n"
     ]
    }
   ],
   "source": [
    "import numpy as np\n",
    "from sklearn.model_selection import KFold\n",
    "average_accuracy=0\n",
    "splits = 5\n",
    "kf = KFold(n_splits=splits)\n",
    "kf.get_n_splits(X)\n",
    "\n",
    "for train_index, test_index in kf.split(X):\n",
    "    #print(\"TRAIN:\", train_index, \"TEST:\", test_index)\n",
    "    x_train, x_test = X[train_index], X[test_index]\n",
    "    y_train, y_test = Y[train_index], Y[test_index]\n",
    "\n",
    "    model = LogisticRegression(solver='liblinear')\n",
    "    model.fit(x_train, y_train)\n",
    "    \n",
    "    y_pred = model.predict(x_test)\n",
    "    cm_lr = confusion_matrix(y_test, y_pred)\n",
    "    acc_lr = accuracy_score(y_test, y_pred) \n",
    "    score = f1_score(y_test, y_pred, average='macro')\n",
    "    print(\"Accuracy of classification : {0} %\".format(acc_lr*100))\n",
    "    print(\"f1_score of classification : {0} %\".format(score*100))\n",
    "    average_accuracy=average_accuracy+acc_lr\n",
    "    print(cm_lr)\n",
    "average_accuracy=average_accuracy/splits\n",
    "print(average_accuracy)\n",
    "lr_x.append('5')\n",
    "lr_y.append(average_accuracy)"
   ]
  },
  {
   "cell_type": "code",
   "execution_count": 26,
   "metadata": {
    "colab": {
     "base_uri": "https://localhost:8080/"
    },
    "id": "tom2-ZTnjKig",
    "outputId": "8c879c8b-85fb-487c-8a3b-4029b6eca580"
   },
   "outputs": [
    {
     "name": "stdout",
     "output_type": "stream",
     "text": [
      "Accuracy of classification : 98.13014210919971 %\n",
      "f1_score of classification : 97.93605187873308 %\n",
      "[[861   1]\n",
      " [ 24 451]]\n",
      "Accuracy of classification : 98.27973074046372 %\n",
      "f1_score of classification : 97.45852992927917 %\n",
      "[[1037    8]\n",
      " [  15  277]]\n",
      "Accuracy of classification : 98.72849663425579 %\n",
      "f1_score of classification : 97.89929286328906 %\n",
      "[[1080    7]\n",
      " [  10  240]]\n",
      "Accuracy of classification : 97.23261032161555 %\n",
      "f1_score of classification : 96.7656856303183 %\n",
      "[[904   7]\n",
      " [ 30 396]]\n",
      "Accuracy of classification : 96.48466716529543 %\n",
      "f1_score of classification : 96.48353407092249 %\n",
      "[[657  11]\n",
      " [ 36 633]]\n",
      "Accuracy of classification : 97.0059880239521 %\n",
      "f1_score of classification : 96.77157438911227 %\n",
      "[[828  33]\n",
      " [  7 468]]\n",
      "Accuracy of classification : 97.45508982035929 %\n",
      "f1_score of classification : 97.13590335313181 %\n",
      "[[874  12]\n",
      " [ 22 428]]\n",
      "0.9761667497359167\n"
     ]
    }
   ],
   "source": [
    "import numpy as np\n",
    "from sklearn.model_selection import KFold\n",
    "average_accuracy=0\n",
    "splits = 7\n",
    "kf = KFold(n_splits=splits)\n",
    "kf.get_n_splits(X)\n",
    "\n",
    "for train_index, test_index in kf.split(X):\n",
    "    #print(\"TRAIN:\", train_index, \"TEST:\", test_index)\n",
    "    x_train, x_test = X[train_index], X[test_index]\n",
    "    y_train, y_test = Y[train_index], Y[test_index]\n",
    "\n",
    "    model = LogisticRegression(solver='liblinear')\n",
    "    model.fit(x_train, y_train)\n",
    "    \n",
    "    y_pred = model.predict(x_test)\n",
    "    cm_lr = confusion_matrix(y_test, y_pred)\n",
    "    acc_lr = accuracy_score(y_test, y_pred) \n",
    "    score = f1_score(y_test, y_pred, average='macro')\n",
    "    print(\"Accuracy of classification : {0} %\".format(acc_lr*100))\n",
    "    print(\"f1_score of classification : {0} %\".format(score*100))\n",
    "    average_accuracy=average_accuracy+acc_lr\n",
    "    print(cm_lr)\n",
    "average_accuracy=average_accuracy/splits\n",
    "print(average_accuracy)\n",
    "lr_x.append('7')\n",
    "lr_y.append(average_accuracy)"
   ]
  },
  {
   "cell_type": "code",
   "execution_count": 27,
   "metadata": {
    "colab": {
     "base_uri": "https://localhost:8080/",
     "height": 298
    },
    "id": "L25l_vOoFi1b",
    "outputId": "75a3c1c3-295b-42de-9bd0-ba43350cc3bb"
   },
   "outputs": [
    {
     "data": {
      "text/plain": [
       "[<matplotlib.lines.Line2D at 0x7f1cbe270b00>]"
      ]
     },
     "execution_count": 27,
     "metadata": {
      "tags": []
     },
     "output_type": "execute_result"
    },
    {
     "data": {
      "image/png": "[encoded data removed]",
      "text/plain": [
       "<Figure size 432x288 with 1 Axes>"
      ]
     },
     "metadata": {
      "needs_background": "light",
      "tags": []
     },
     "output_type": "display_data"
    }
   ],
   "source": [
    "plt.xlabel('k')\n",
    "plt.ylabel('accuracy of logestic_regression model')\n",
    "plt.plot(lr_x, lr_y)"
   ]
  },
  {
   "cell_type": "code",
   "execution_count": 28,
   "metadata": {
    "id": "Dio6OG09LnGJ"
   },
   "outputs": [],
   "source": [
    "accuracy_x = [\"svm\", \"knn\", \"LR\"];\n",
    "accuracy_y = [99.69, 99.56, 97.61];"
   ]
  },
  {
   "cell_type": "code",
   "execution_count": 29,
   "metadata": {
    "colab": {
     "base_uri": "https://localhost:8080/",
     "height": 296
    },
    "id": "jP5r9BoX6SMq",
    "outputId": "943b5b8c-452b-4d37-ae6f-85288af2a3d8"
   },
   "outputs": [
    {
     "data": {
      "text/plain": [
       "[<matplotlib.lines.Line2D at 0x7f1cbe1eec50>]"
      ]
     },
     "execution_count": 29,
     "metadata": {
      "tags": []
     },
     "output_type": "execute_result"
    },
    {
     "data": {
      "image/png": "[encoded data removed]",
      "text/plain": [
       "<Figure size 432x288 with 1 Axes>"
      ]
     },
     "metadata": {
      "needs_background": "light",
      "tags": []
     },
     "output_type": "display_data"
    }
   ],
   "source": [
    "plt.xlabel('k')\n",
    "plt.ylabel('accuracy of models')\n",
    "plt.plot(accuracy_x, accuracy_y)"
   ]
  },
  {
   "cell_type": "code",
   "execution_count": 30,
   "metadata": {
    "id": "k9l7UQaD8tNH"
   },
   "outputs": [],
   "source": [
    "# Save logistic regression model"
   ]
  },
  {
   "cell_type": "code",
   "execution_count": 31,
   "metadata": {
    "colab": {
     "base_uri": "https://localhost:8080/"
    },
    "id": "RNsbSVG8AlQL",
    "outputId": "3ec420aa-f424-49c0-87aa-e7bb49243f44"
   },
   "outputs": [
    {
     "data": {
      "text/plain": [
       "['CMPE295_Asthma_Risk_Prediction_Model_20201202.joblib']"
      ]
     },
     "execution_count": 31,
     "metadata": {
      "tags": []
     },
     "output_type": "execute_result"
    }
   ],
   "source": [
    "from joblib import dump, load\n",
    "dump(model, 'CMPE295_Asthma_Risk_Prediction_Model_20201202.joblib')"
   ]
  }
 ],
 "metadata": {
  "colab": {
   "collapsed_sections": [
    "Rx3jRMhgJfqC"
   ],
   "name": "CMPE_295A_Asthma_Risk_Computaion_Model_Training_and_Testing_Final.ipynb",
   "provenance": [],
   "toc_visible": true
  },
  "kernelspec": {
   "display_name": "Python 3",
   "language": "python",
   "name": "python3"
  },
  "language_info": {
   "codemirror_mode": {
    "name": "ipython",
    "version": 3
   },
   "file_extension": ".py",
   "mimetype": "text/x-python",
   "name": "python",
   "nbconvert_exporter": "python",
   "pygments_lexer": "ipython3",
   "version": "3.8.3"
  }
 },
 "nbformat": 4,
 "nbformat_minor": 1
}
